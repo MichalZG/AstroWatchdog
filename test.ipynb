{
 "cells": [
  {
   "cell_type": "code",
   "execution_count": 305,
   "metadata": {},
   "outputs": [],
   "source": [
    "import configparser \n",
    "import logging\n",
    "import datetime as dt\n",
    "from influxdb import InfluxDBClient, DataFrameClient\n",
    "import json\n",
    "import pandas as pd"
   ]
  },
  {
   "cell_type": "code",
   "execution_count": 306,
   "metadata": {},
   "outputs": [
    {
     "data": {
      "text/plain": [
       "['./configs/monitor.conf']"
      ]
     },
     "execution_count": 306,
     "metadata": {},
     "output_type": "execute_result"
    }
   ],
   "source": [
    "config = configparser.ConfigParser()\n",
    "config.read('./configs/monitor.conf')"
   ]
  },
  {
   "cell_type": "code",
   "execution_count": 307,
   "metadata": {},
   "outputs": [],
   "source": [
    "def get_influxdb_clients():\n",
    "    # FIXME\n",
    "    influxdb_client = InfluxDBClient(\n",
    "        config.get('INFLUXDB', 'ADDRESS'),\n",
    "        config.get('INFLUXDB', 'PORT'),\n",
    "        config.get('INFLUXDB', 'USER'),\n",
    "        config.get('INFLUXDB', 'PASSWORD'),\n",
    "        config.get('INFLUXDB', 'DB_NAME'))\n",
    "\n",
    "    influxdb_dataframe_client = DataFrameClient(\n",
    "        config.get('INFLUXDB', 'ADDRESS'),\n",
    "        config.get('INFLUXDB', 'PORT'),\n",
    "        config.get('INFLUXDB', 'USER'),\n",
    "        config.get('INFLUXDB', 'PASSWORD'),\n",
    "        config.get('INFLUXDB', 'DB_NAME'))\n",
    "\n",
    "    return influxdb_client, influxdb_dataframe_client"
   ]
  },
  {
   "cell_type": "code",
   "execution_count": 308,
   "metadata": {},
   "outputs": [],
   "source": [
    "uuid = '100316824873160941010780204477983883413'\n",
    "\n",
    "\n",
    "def get_influxdb_data(client, df_client):\n",
    "\n",
    "    last_element_query = 'select * from image order by desc limit 1'\n",
    "    last_result = client.query(last_element_query)\n",
    "    \n",
    "    last_uuid = list(last_result.get_points())[0]['uuid']\n",
    "    \n",
    "    data_query = 'select * from image where uuid = \\'{}\\' group by \"FILTER\"  order by asc'.format(\n",
    "        last_uuid)\n",
    "    \n",
    "#     data_query = 'select * from image group by \"FILTER\" order by asc limit 100'.format(\n",
    "#                      uuid\n",
    "#                     )\n",
    "    result = df_client.query(data_query)\n",
    "    result = dict(\n",
    "        [(k[1][0][1], v.reset_index(level=0).to_json()) for k, v in result.items()])\n",
    "\n",
    "    return last_result, result\n"
   ]
  },
  {
   "cell_type": "code",
   "execution_count": 309,
   "metadata": {},
   "outputs": [],
   "source": [
    "client, df_client = get_influxdb_clients()"
   ]
  },
  {
   "cell_type": "code",
   "execution_count": 310,
   "metadata": {},
   "outputs": [],
   "source": [
    "last_result, result = get_influxdb_data(client, df_client)"
   ]
  },
  {
   "cell_type": "code",
   "execution_count": 323,
   "metadata": {},
   "outputs": [
    {
     "data": {
      "text/plain": [
       "{'R': '{\"index\":{\"0\":1557621579927,\"1\":1557621585740,\"2\":1557621591653},\"BACKGROUND\":{\"0\":4804.625,\"1\":4767.313,\"2\":4752.654},\"DEC_CENTER\":{\"0\":36.935891,\"1\":36.93572,\"2\":36.935945},\"DEC_HDR\":{\"0\":36.935278,\"1\":36.935278,\"2\":36.935278},\"EXPTIME\":{\"0\":60,\"1\":60,\"2\":60},\"FLUX_MAX\":{\"0\":2734.683,\"1\":2572.294,\"2\":3034.291},\"FWHM_IMAGE\":{\"0\":2.53,\"1\":2.54,\"2\":2.31},\"NUMBER\":{\"0\":125,\"1\":126,\"2\":129},\"OBJECT\":{\"0\":\"j0713\",\"1\":\"j0713\",\"2\":\"j0713\"},\"OBSERVER\":{\"0\":\"MD\",\"1\":\"MD\",\"2\":\"MD\"},\"PHOTOMETRY_STATUS\":{\"0\":1,\"1\":1,\"2\":1},\"RA_CENTER\":{\"0\":108.290493,\"1\":108.290428,\"2\":108.290489},\"RA_HDR\":{\"0\":108.289583,\"1\":108.289583,\"2\":108.289583},\"SNR_WIN\":{\"0\":80.42,\"1\":83.9,\"2\":86.79},\"X_IMAGE\":{\"0\":514.7047,\"1\":514.6284,\"2\":514.7081},\"Y_IMAGE\":{\"0\":514.0812,\"1\":513.6413,\"2\":514.2977},\"image_time\":{\"0\":\"2019-03-19T22:39:33.49\",\"1\":\"2019-03-19T22:40:35.09\",\"2\":\"2019-03-19T22:41:36.72\"},\"uuid\":{\"0\":\"225478220844960246434850379525829752633\",\"1\":\"225478220844960246434850379525829752633\",\"2\":\"225478220844960246434850379525829752633\"}}'}"
      ]
     },
     "execution_count": 323,
     "metadata": {},
     "output_type": "execute_result"
    }
   ],
   "source": [
    "result"
   ]
  },
  {
   "cell_type": "code",
   "execution_count": 322,
   "metadata": {},
   "outputs": [
    {
     "data": {
      "text/plain": [
       "Index(['index', 'BACKGROUND', 'DEC_CENTER', 'DEC_HDR', 'EXPTIME', 'FLUX_MAX',\n",
       "       'FWHM_IMAGE', 'NUMBER', 'OBJECT', 'OBSERVER', 'PHOTOMETRY_STATUS',\n",
       "       'RA_CENTER', 'RA_HDR', 'SNR_WIN', 'X_IMAGE', 'Y_IMAGE', 'image_time',\n",
       "       'uuid'],\n",
       "      dtype='object')"
      ]
     },
     "execution_count": 322,
     "metadata": {},
     "output_type": "execute_result"
    }
   ],
   "source": [
    "value.columns"
   ]
  },
  {
   "cell_type": "code",
   "execution_count": 276,
   "metadata": {},
   "outputs": [],
   "source": [
    "for k, v in result.items():\n",
    "    a = pd.read_json(v)"
   ]
  },
  {
   "cell_type": "code",
   "execution_count": 327,
   "metadata": {},
   "outputs": [],
   "source": [
    "ra_object, dec_object, ra_center, dec_center = (108.28958, 36.9352,\n",
    "                                                108.290493, 36.8352)"
   ]
  },
  {
   "cell_type": "code",
   "execution_count": 328,
   "metadata": {},
   "outputs": [],
   "source": [
    "from astropy.coordinates import SkyCoord"
   ]
  },
  {
   "cell_type": "code",
   "execution_count": 329,
   "metadata": {},
   "outputs": [],
   "source": [
    "obj_coo = SkyCoord(ra_object, dec_object, unit='deg')\n",
    "center_coo = SkyCoord(ra_center, dec_center, unit='deg')"
   ]
  },
  {
   "cell_type": "code",
   "execution_count": 338,
   "metadata": {},
   "outputs": [],
   "source": [
    "sep = obj_coo.separation(center_coo)"
   ]
  },
  {
   "cell_type": "code",
   "execution_count": 341,
   "metadata": {},
   "outputs": [
    {
     "data": {
      "text/plain": [
       "6.0001599788845255"
      ]
     },
     "execution_count": 341,
     "metadata": {},
     "output_type": "execute_result"
    }
   ],
   "source": [
    "sep.arcmin"
   ]
  },
  {
   "cell_type": "code",
   "execution_count": null,
   "metadata": {},
   "outputs": [],
   "source": []
  }
 ],
 "metadata": {
  "kernelspec": {
   "display_name": "Python 3",
   "language": "python",
   "name": "python3"
  },
  "language_info": {
   "codemirror_mode": {
    "name": "ipython",
    "version": 3
   },
   "file_extension": ".py",
   "mimetype": "text/x-python",
   "name": "python",
   "nbconvert_exporter": "python",
   "pygments_lexer": "ipython3",
   "version": "3.7.2"
  }
 },
 "nbformat": 4,
 "nbformat_minor": 2
}
