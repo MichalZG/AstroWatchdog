{
 "cells": [
  {
   "cell_type": "code",
   "execution_count": 259,
   "metadata": {},
   "outputs": [],
   "source": [
    "import configparser \n",
    "import logging\n",
    "import datetime as dt\n",
    "from influxdb import InfluxDBClient, DataFrameClient\n",
    "import json\n",
    "import pandas as pd"
   ]
  },
  {
   "cell_type": "code",
   "execution_count": 9,
   "metadata": {},
   "outputs": [
    {
     "data": {
      "text/plain": [
       "['./configs/monitor.conf']"
      ]
     },
     "execution_count": 9,
     "metadata": {},
     "output_type": "execute_result"
    }
   ],
   "source": [
    "config = configparser.ConfigParser()\n",
    "config.read('./configs/monitor.conf')"
   ]
  },
  {
   "cell_type": "code",
   "execution_count": 13,
   "metadata": {},
   "outputs": [],
   "source": [
    "def get_influxdb_clients():\n",
    "    # FIXME\n",
    "    influxdb_client = InfluxDBClient(\n",
    "        config.get('INFLUXDB', 'ADDRESS'),\n",
    "        config.get('INFLUXDB', 'PORT'),\n",
    "        config.get('INFLUXDB', 'USER'),\n",
    "        config.get('INFLUXDB', 'PASSWORD'),\n",
    "        config.get('INFLUXDB', 'DB_NAME'))\n",
    "\n",
    "    influxdb_dataframe_client = DataFrameClient(\n",
    "        config.get('INFLUXDB', 'ADDRESS'),\n",
    "        config.get('INFLUXDB', 'PORT'),\n",
    "        config.get('INFLUXDB', 'USER'),\n",
    "        config.get('INFLUXDB', 'PASSWORD'),\n",
    "        config.get('INFLUXDB', 'DB_NAME'))\n",
    "\n",
    "    return influxdb_client, influxdb_dataframe_client"
   ]
  },
  {
   "cell_type": "code",
   "execution_count": 251,
   "metadata": {},
   "outputs": [],
   "source": [
    "uuid = '100316824873160941010780204477983883413'\n",
    "\n",
    "\n",
    "def get_influxdb_data(client, df_client):\n",
    "\n",
    "    last_element_query = 'select * from image order by desc limit 1'\n",
    "    last_result = client.query(last_element_query)\n",
    "    \n",
    "    last_uuid = list(last_result.get_points())[0]['uuid']\n",
    "    \n",
    "    data_query = 'select * from image where uuid = \\'{}\\' group by \"FILTER\"  order by asc'.format(\n",
    "        last_uuid)\n",
    "    \n",
    "#     data_query = 'select * from image group by \"FILTER\" order by asc limit 100'.format(\n",
    "#                      uuid\n",
    "#                     )\n",
    "    result = df_client.query(data_query)\n",
    "    result = dict(\n",
    "        [(k[1][0][1], v.reset_index(level=0).to_json()) for k, v in result.items()])\n",
    "\n",
    "    return last_result, result\n"
   ]
  },
  {
   "cell_type": "code",
   "execution_count": 252,
   "metadata": {},
   "outputs": [],
   "source": [
    "client, df_client = get_influxdb_clients()"
   ]
  },
  {
   "cell_type": "code",
   "execution_count": 253,
   "metadata": {},
   "outputs": [],
   "source": [
    "last_result, result = get_influxdb_data(client, df_client)"
   ]
  },
  {
   "cell_type": "code",
   "execution_count": 254,
   "metadata": {},
   "outputs": [
    {
     "data": {
      "text/plain": [
       "ResultSet({'('image', None)': [{'time': '2019-05-11T23:45:41.040560128Z', 'BACKGROUND': 1670.906, 'DATE-OBS': None, 'DEC_CENTER': 78.539714, 'DEC_HDR': 78.556122, 'EXPTIME': 10, 'EXPTIME_1': None, 'FILTER': 'B', 'FLUX_MAX': 7463.553, 'FWHM_IMAGE': 3.15, 'NUMBER': 34, 'OBJECT': 'excep', 'OBSERVER': 'MD', 'PHOTOMETRY_STATUS': 1, 'RA_CENTER': 30.649038, 'RA_HDR': 30.997612, 'SNR_WIN': 258.2, 'TIME-OBS': None, 'X_IMAGE': 291.0218, 'Y_IMAGE': 448.347, 'image_time': '2019-03-19T21:00:44.86', 'uuid': '299054492486576389112619756464580679075'}]})"
      ]
     },
     "execution_count": 254,
     "metadata": {},
     "output_type": "execute_result"
    }
   ],
   "source": [
    "last_result"
   ]
  },
  {
   "cell_type": "code",
   "execution_count": 255,
   "metadata": {},
   "outputs": [
    {
     "data": {
      "text/plain": [
       "{'time': '2019-05-11T23:45:41.040560128Z',\n",
       " 'BACKGROUND': 1670.906,\n",
       " 'DATE-OBS': None,\n",
       " 'DEC_CENTER': 78.539714,\n",
       " 'DEC_HDR': 78.556122,\n",
       " 'EXPTIME': 10,\n",
       " 'EXPTIME_1': None,\n",
       " 'FILTER': 'B',\n",
       " 'FLUX_MAX': 7463.553,\n",
       " 'FWHM_IMAGE': 3.15,\n",
       " 'NUMBER': 34,\n",
       " 'OBJECT': 'excep',\n",
       " 'OBSERVER': 'MD',\n",
       " 'PHOTOMETRY_STATUS': 1,\n",
       " 'RA_CENTER': 30.649038,\n",
       " 'RA_HDR': 30.997612,\n",
       " 'SNR_WIN': 258.2,\n",
       " 'TIME-OBS': None,\n",
       " 'X_IMAGE': 291.0218,\n",
       " 'Y_IMAGE': 448.347,\n",
       " 'image_time': '2019-03-19T21:00:44.86',\n",
       " 'uuid': '299054492486576389112619756464580679075'}"
      ]
     },
     "execution_count": 255,
     "metadata": {},
     "output_type": "execute_result"
    }
   ],
   "source": [
    "list(last_result.get_points())[0]"
   ]
  },
  {
   "cell_type": "code",
   "execution_count": 276,
   "metadata": {},
   "outputs": [],
   "source": [
    "for k, v in result.items():\n",
    "    a = pd.read_json(v)"
   ]
  },
  {
   "cell_type": "code",
   "execution_count": null,
   "metadata": {},
   "outputs": [],
   "source": []
  },
  {
   "cell_type": "code",
   "execution_count": null,
   "metadata": {},
   "outputs": [],
   "source": []
  },
  {
   "cell_type": "code",
   "execution_count": 279,
   "metadata": {},
   "outputs": [
    {
     "data": {
      "text/plain": [
       "0     1557618236820\n",
       "1     1557618242642\n",
       "10    1557618293402\n",
       "11    1557618299264\n",
       "12    1557618305115\n",
       "13    1557618311153\n",
       "14    1557618317067\n",
       "15    1557618322899\n",
       "16    1557618329022\n",
       "17    1557618335043\n",
       "18    1557618341040\n",
       "2     1557618248637\n",
       "3     1557618254727\n",
       "4     1557618260652\n",
       "5     1557618266570\n",
       "6     1557618269519\n",
       "7     1557618275346\n",
       "8     1557618281348\n",
       "9     1557618287449\n",
       "Name: index, dtype: int64"
      ]
     },
     "execution_count": 279,
     "metadata": {},
     "output_type": "execute_result"
    }
   ],
   "source": [
    "a['index']"
   ]
  },
  {
   "cell_type": "code",
   "execution_count": null,
   "metadata": {},
   "outputs": [],
   "source": []
  }
 ],
 "metadata": {
  "kernelspec": {
   "display_name": "Python 3",
   "language": "python",
   "name": "python3"
  },
  "language_info": {
   "codemirror_mode": {
    "name": "ipython",
    "version": 3
   },
   "file_extension": ".py",
   "mimetype": "text/x-python",
   "name": "python",
   "nbconvert_exporter": "python",
   "pygments_lexer": "ipython3",
   "version": "3.7.2"
  }
 },
 "nbformat": 4,
 "nbformat_minor": 2
}
